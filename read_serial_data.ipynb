{
 "cells": [
  {
   "cell_type": "markdown",
   "metadata": {},
   "source": [
    "Read data from the PMS over serial. I want to convert the keys using the following mapping:"
   ]
  },
  {
   "cell_type": "code",
   "execution_count": 1,
   "metadata": {},
   "outputs": [],
   "source": [
    "key_map = {\n",
    "    \"a\":\"particles_03um\",\n",
    "    \"b\":\"particles_05um\",\n",
    "    \"c\":\"particles_10um\",\n",
    "    \"d\":\"particles_25um\",\n",
    "    \"e\":\"particles_50um\",\n",
    "    \"f\":\"particles_100um\"\n",
    "}"
   ]
  },
  {
   "cell_type": "code",
   "execution_count": 2,
   "metadata": {},
   "outputs": [],
   "source": [
    "import serial\n",
    "import time\n",
    "import datetime\n",
    "import json\n",
    "import pandas as pd\n",
    "%matplotlib inline"
   ]
  },
  {
   "cell_type": "code",
   "execution_count": 3,
   "metadata": {},
   "outputs": [
    {
     "name": "stdout",
     "output_type": "stream",
     "text": [
      "\u001b[34m\u001b[43m/dev/tty.Bluedio-BluetoothSerial\u001b[m\u001b[m \u001b[34m\u001b[43m/dev/tty.RobinsiPhone6-Wirelessi\u001b[m\u001b[m\n",
      "\u001b[34m\u001b[43m/dev/tty.Bluetooth-Incoming-Port\u001b[m\u001b[m \u001b[34m\u001b[43m/dev/tty.usbmodem141401\u001b[m\u001b[m\n"
     ]
    }
   ],
   "source": [
    "!ls /dev/tty.*"
   ]
  },
  {
   "cell_type": "code",
   "execution_count": 4,
   "metadata": {},
   "outputs": [],
   "source": [
    "port = '/dev/tty.usbmodem141401'"
   ]
  },
  {
   "cell_type": "code",
   "execution_count": 5,
   "metadata": {},
   "outputs": [],
   "source": [
    "ser = serial.Serial(port)"
   ]
  },
  {
   "cell_type": "code",
   "execution_count": 6,
   "metadata": {},
   "outputs": [],
   "source": [
    "data_json = ser.readline().decode(\"utf-8\").replace(\"\\r\\n\", \"\") "
   ]
  },
  {
   "cell_type": "code",
   "execution_count": 7,
   "metadata": {},
   "outputs": [],
   "source": [
    "data_dict = json.loads(data_json)"
   ]
  },
  {
   "cell_type": "code",
   "execution_count": 8,
   "metadata": {},
   "outputs": [
    {
     "data": {
      "text/plain": [
       "{'a': 1155, 'b': 322, 'c': 29, 'd': 1, 'e': 0, 'f': 0}"
      ]
     },
     "execution_count": 8,
     "metadata": {},
     "output_type": "execute_result"
    }
   ],
   "source": [
    "data_dict"
   ]
  },
  {
   "cell_type": "markdown",
   "metadata": {},
   "source": [
    "Use the key map to recover accurate keys"
   ]
  },
  {
   "cell_type": "code",
   "execution_count": 9,
   "metadata": {},
   "outputs": [],
   "source": [
    "mapped_data_dict = {key_map[key]:val for key, val in data_dict.items()}"
   ]
  },
  {
   "cell_type": "code",
   "execution_count": 10,
   "metadata": {},
   "outputs": [
    {
     "data": {
      "text/plain": [
       "{'particles_03um': 1155,\n",
       " 'particles_05um': 322,\n",
       " 'particles_10um': 29,\n",
       " 'particles_25um': 1,\n",
       " 'particles_50um': 0,\n",
       " 'particles_100um': 0}"
      ]
     },
     "execution_count": 10,
     "metadata": {},
     "output_type": "execute_result"
    }
   ],
   "source": [
    "mapped_data_dict"
   ]
  },
  {
   "cell_type": "code",
   "execution_count": 11,
   "metadata": {},
   "outputs": [
    {
     "data": {
      "text/plain": [
       "particles_03um     1155\n",
       "particles_05um      322\n",
       "particles_10um       29\n",
       "particles_25um        1\n",
       "particles_50um        0\n",
       "particles_100um       0\n",
       "dtype: int64"
      ]
     },
     "execution_count": 11,
     "metadata": {},
     "output_type": "execute_result"
    }
   ],
   "source": [
    "pd.Series(mapped_data_dict)"
   ]
  },
  {
   "cell_type": "markdown",
   "metadata": {},
   "source": [
    "Lets wrap this in a small class"
   ]
  },
  {
   "cell_type": "code",
   "execution_count": 50,
   "metadata": {},
   "outputs": [],
   "source": [
    "class pmsreader():\n",
    "    def __init__(self, port='/dev/tty.usbmodem141401'):\n",
    "        self._ser = serial.Serial(port)\n",
    "    \n",
    "    def read(self):\n",
    "        try:\n",
    "            data_json = self._ser.readline().decode(\"utf-8\").replace(\"\\r\\n\", \"\") \n",
    "            data_dict = json.loads(data_json)\n",
    "            mapped_data_dict = {key_map[key]:val for key, val in data_dict.items()}\n",
    "            mapped_data_dict['time'] = datetime.datetime.now()\n",
    "            return mapped_data_dict\n",
    "        except:\n",
    "            return None        "
   ]
  },
  {
   "cell_type": "code",
   "execution_count": 51,
   "metadata": {},
   "outputs": [],
   "source": [
    "pms = pmsreader()"
   ]
  },
  {
   "cell_type": "code",
   "execution_count": 52,
   "metadata": {},
   "outputs": [
    {
     "data": {
      "text/plain": [
       "{'particles_03um': 1155,\n",
       " 'particles_05um': 348,\n",
       " 'particles_10um': 39,\n",
       " 'particles_25um': 4,\n",
       " 'particles_50um': 3,\n",
       " 'particles_100um': 1,\n",
       " 'time': datetime.datetime(2018, 10, 31, 7, 18, 3, 299568)}"
      ]
     },
     "execution_count": 52,
     "metadata": {},
     "output_type": "execute_result"
    }
   ],
   "source": [
    "pms.read()"
   ]
  },
  {
   "cell_type": "markdown",
   "metadata": {},
   "source": [
    "Now capture some time-series data"
   ]
  },
  {
   "cell_type": "code",
   "execution_count": 60,
   "metadata": {},
   "outputs": [],
   "source": [
    "data = []\n",
    "measurements = 30\n",
    "sleep_sec = 2\n",
    "\n",
    "for i in range(measurements):\n",
    "    reading = pms.read()\n",
    "    if reading is not None:\n",
    "        data.append(reading)\n",
    "    time.sleep(sleep_sec)"
   ]
  },
  {
   "cell_type": "code",
   "execution_count": 61,
   "metadata": {},
   "outputs": [],
   "source": [
    "df = pd.DataFrame(data)\n",
    "df.set_index('time', inplace=True)"
   ]
  },
  {
   "cell_type": "code",
   "execution_count": 62,
   "metadata": {},
   "outputs": [
    {
     "data": {
      "text/html": [
       "<div>\n",
       "<style scoped>\n",
       "    .dataframe tbody tr th:only-of-type {\n",
       "        vertical-align: middle;\n",
       "    }\n",
       "\n",
       "    .dataframe tbody tr th {\n",
       "        vertical-align: top;\n",
       "    }\n",
       "\n",
       "    .dataframe thead th {\n",
       "        text-align: right;\n",
       "    }\n",
       "</style>\n",
       "<table border=\"1\" class=\"dataframe\">\n",
       "  <thead>\n",
       "    <tr style=\"text-align: right;\">\n",
       "      <th></th>\n",
       "      <th>particles_03um</th>\n",
       "      <th>particles_05um</th>\n",
       "      <th>particles_100um</th>\n",
       "      <th>particles_10um</th>\n",
       "      <th>particles_25um</th>\n",
       "      <th>particles_50um</th>\n",
       "    </tr>\n",
       "    <tr>\n",
       "      <th>time</th>\n",
       "      <th></th>\n",
       "      <th></th>\n",
       "      <th></th>\n",
       "      <th></th>\n",
       "      <th></th>\n",
       "      <th></th>\n",
       "    </tr>\n",
       "  </thead>\n",
       "  <tbody>\n",
       "    <tr>\n",
       "      <th>2018-10-31 07:23:42.184571</th>\n",
       "      <td>1065</td>\n",
       "      <td>319</td>\n",
       "      <td>0</td>\n",
       "      <td>32</td>\n",
       "      <td>5</td>\n",
       "      <td>5</td>\n",
       "    </tr>\n",
       "    <tr>\n",
       "      <th>2018-10-31 07:23:44.186738</th>\n",
       "      <td>1065</td>\n",
       "      <td>319</td>\n",
       "      <td>0</td>\n",
       "      <td>32</td>\n",
       "      <td>5</td>\n",
       "      <td>5</td>\n",
       "    </tr>\n",
       "    <tr>\n",
       "      <th>2018-10-31 07:23:46.191700</th>\n",
       "      <td>1065</td>\n",
       "      <td>320</td>\n",
       "      <td>0</td>\n",
       "      <td>36</td>\n",
       "      <td>6</td>\n",
       "      <td>6</td>\n",
       "    </tr>\n",
       "    <tr>\n",
       "      <th>2018-10-31 07:23:48.196116</th>\n",
       "      <td>1065</td>\n",
       "      <td>320</td>\n",
       "      <td>0</td>\n",
       "      <td>36</td>\n",
       "      <td>6</td>\n",
       "      <td>6</td>\n",
       "    </tr>\n",
       "    <tr>\n",
       "      <th>2018-10-31 07:23:50.197537</th>\n",
       "      <td>1065</td>\n",
       "      <td>320</td>\n",
       "      <td>0</td>\n",
       "      <td>36</td>\n",
       "      <td>6</td>\n",
       "      <td>6</td>\n",
       "    </tr>\n",
       "  </tbody>\n",
       "</table>\n",
       "</div>"
      ],
      "text/plain": [
       "                            particles_03um  particles_05um  particles_100um  \\\n",
       "time                                                                          \n",
       "2018-10-31 07:23:42.184571            1065             319                0   \n",
       "2018-10-31 07:23:44.186738            1065             319                0   \n",
       "2018-10-31 07:23:46.191700            1065             320                0   \n",
       "2018-10-31 07:23:48.196116            1065             320                0   \n",
       "2018-10-31 07:23:50.197537            1065             320                0   \n",
       "\n",
       "                            particles_10um  particles_25um  particles_50um  \n",
       "time                                                                        \n",
       "2018-10-31 07:23:42.184571              32               5               5  \n",
       "2018-10-31 07:23:44.186738              32               5               5  \n",
       "2018-10-31 07:23:46.191700              36               6               6  \n",
       "2018-10-31 07:23:48.196116              36               6               6  \n",
       "2018-10-31 07:23:50.197537              36               6               6  "
      ]
     },
     "execution_count": 62,
     "metadata": {},
     "output_type": "execute_result"
    }
   ],
   "source": [
    "df.head()"
   ]
  },
  {
   "cell_type": "code",
   "execution_count": 63,
   "metadata": {},
   "outputs": [
    {
     "data": {
      "text/plain": [
       "<matplotlib.axes._subplots.AxesSubplot at 0x10cb24e10>"
      ]
     },
     "execution_count": 63,
     "metadata": {},
     "output_type": "execute_result"
    },
    {
     "data": {
      "image/png": "[encoded data removed]",
      "text/plain": [
       "<Figure size 432x288 with 1 Axes>"
      ]
     },
     "metadata": {},
     "output_type": "display_data"
    }
   ],
   "source": [
    "df.plot()"
   ]
  },
  {
   "cell_type": "code",
   "execution_count": null,
   "metadata": {},
   "outputs": [],
   "source": []
  }
 ],
 "metadata": {
  "kernelspec": {
   "display_name": "Python 3",
   "language": "python",
   "name": "python3"
  },
  "language_info": {
   "codemirror_mode": {
    "name": "ipython",
    "version": 3
   },
   "file_extension": ".py",
   "mimetype": "text/x-python",
   "name": "python",
   "nbconvert_exporter": "python",
   "pygments_lexer": "ipython3",
   "version": "3.6.5"
  }
 },
 "nbformat": 4,
 "nbformat_minor": 2
}
