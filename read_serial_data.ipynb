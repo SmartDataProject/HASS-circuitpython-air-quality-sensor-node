{
 "cells": [
  {
   "cell_type": "markdown",
   "metadata": {},
   "source": [
    "Read data from the PMS over serial. I want to convert the keys using the following mapping:"
   ]
  },
  {
   "cell_type": "code",
   "execution_count": 1,
   "metadata": {},
   "outputs": [],
   "source": [
    "key_map = {\n",
    "    \"a\":\"particles_03um\",\n",
    "    \"b\":\"particles_05um\",\n",
    "    \"c\":\"particles_10um\",\n",
    "    \"d\":\"particles_25um\",\n",
    "    \"e\":\"particles_50um\",\n",
    "    \"f\":\"particles_100um\"\n",
    "}"
   ]
  },
  {
   "cell_type": "code",
   "execution_count": 2,
   "metadata": {},
   "outputs": [],
   "source": [
    "import serial\n",
    "import time\n",
    "import datetime\n",
    "import json\n",
    "import pandas as pd\n",
    "%matplotlib inline"
   ]
  },
  {
   "cell_type": "code",
   "execution_count": 3,
   "metadata": {},
   "outputs": [
    {
     "name": "stdout",
     "output_type": "stream",
     "text": [
      "\u001b[34m\u001b[43m/dev/tty.Bluedio-BluetoothSerial\u001b[m\u001b[m \u001b[34m\u001b[43m/dev/tty.RobinsiPhone6-Wirelessi\u001b[m\u001b[m\n",
      "\u001b[34m\u001b[43m/dev/tty.Bluetooth-Incoming-Port\u001b[m\u001b[m \u001b[34m\u001b[43m/dev/tty.usbmodem141401\u001b[m\u001b[m\n"
     ]
    }
   ],
   "source": [
    "!ls /dev/tty.*"
   ]
  },
  {
   "cell_type": "code",
   "execution_count": 4,
   "metadata": {},
   "outputs": [],
   "source": [
    "port = '/dev/tty.usbmodem141401'"
   ]
  },
  {
   "cell_type": "code",
   "execution_count": 5,
   "metadata": {},
   "outputs": [],
   "source": [
    "ser = serial.Serial(port)"
   ]
  },
  {
   "cell_type": "code",
   "execution_count": 6,
   "metadata": {},
   "outputs": [],
   "source": [
    "data_json = ser.readline().decode(\"utf-8\").replace(\"\\r\\n\", \"\") "
   ]
  },
  {
   "cell_type": "code",
   "execution_count": 7,
   "metadata": {},
   "outputs": [],
   "source": [
    "data_dict = json.loads(data_json)"
   ]
  },
  {
   "cell_type": "code",
   "execution_count": 8,
   "metadata": {},
   "outputs": [
    {
     "data": {
      "text/plain": [
       "{'a': 1155, 'b': 322, 'c': 29, 'd': 1, 'e': 0, 'f': 0}"
      ]
     },
     "execution_count": 8,
     "metadata": {},
     "output_type": "execute_result"
    }
   ],
   "source": [
    "data_dict"
   ]
  },
  {
   "cell_type": "markdown",
   "metadata": {},
   "source": [
    "Use the key map to recover accurate keys"
   ]
  },
  {
   "cell_type": "code",
   "execution_count": 9,
   "metadata": {},
   "outputs": [],
   "source": [
    "mapped_data_dict = {key_map[key]:val for key, val in data_dict.items()}"
   ]
  },
  {
   "cell_type": "code",
   "execution_count": 10,
   "metadata": {},
   "outputs": [
    {
     "data": {
      "text/plain": [
       "{'particles_03um': 1155,\n",
       " 'particles_05um': 322,\n",
       " 'particles_10um': 29,\n",
       " 'particles_25um': 1,\n",
       " 'particles_50um': 0,\n",
       " 'particles_100um': 0}"
      ]
     },
     "execution_count": 10,
     "metadata": {},
     "output_type": "execute_result"
    }
   ],
   "source": [
    "mapped_data_dict"
   ]
  },
  {
   "cell_type": "code",
   "execution_count": 11,
   "metadata": {},
   "outputs": [
    {
     "data": {
      "text/plain": [
       "particles_03um     1155\n",
       "particles_05um      322\n",
       "particles_10um       29\n",
       "particles_25um        1\n",
       "particles_50um        0\n",
       "particles_100um       0\n",
       "dtype: int64"
      ]
     },
     "execution_count": 11,
     "metadata": {},
     "output_type": "execute_result"
    }
   ],
   "source": [
    "pd.Series(mapped_data_dict)"
   ]
  },
  {
   "cell_type": "markdown",
   "metadata": {},
   "source": [
    "Lets wrap this in a small class"
   ]
  },
  {
   "cell_type": "code",
   "execution_count": 44,
   "metadata": {},
   "outputs": [],
   "source": [
    "class pmsreader():\n",
    "    def __init__(self, port='/dev/tty.usbmodem141401'):\n",
    "        self._ser = serial.Serial(port)\n",
    "    \n",
    "    def read(self):\n",
    "        try:\n",
    "            data_json = self._ser.readline().decode(\"utf-8\").replace(\"\\r\\n\", \"\") \n",
    "            data_dict = json.loads(data_json)\n",
    "            mapped_data_dict = {key_map[key]:val for key, val in data_dict.items()}\n",
    "            return mapped_data_dict\n",
    "        except:\n",
    "            return None        "
   ]
  },
  {
   "cell_type": "code",
   "execution_count": 45,
   "metadata": {},
   "outputs": [],
   "source": [
    "pms = pmsreader()"
   ]
  },
  {
   "cell_type": "code",
   "execution_count": 49,
   "metadata": {},
   "outputs": [
    {
     "data": {
      "text/plain": [
       "{'particles_03um': 1251,\n",
       " 'particles_05um': 377,\n",
       " 'particles_10um': 42,\n",
       " 'particles_25um': 5,\n",
       " 'particles_50um': 2,\n",
       " 'particles_100um': 1}"
      ]
     },
     "execution_count": 49,
     "metadata": {},
     "output_type": "execute_result"
    }
   ],
   "source": [
    "pms.read()"
   ]
  },
  {
   "cell_type": "code",
   "execution_count": null,
   "metadata": {},
   "outputs": [],
   "source": []
  }
 ],
 "metadata": {
  "kernelspec": {
   "display_name": "Python 3",
   "language": "python",
   "name": "python3"
  },
  "language_info": {
   "codemirror_mode": {
    "name": "ipython",
    "version": 3
   },
   "file_extension": ".py",
   "mimetype": "text/x-python",
   "name": "python",
   "nbconvert_exporter": "python",
   "pygments_lexer": "ipython3",
   "version": "3.6.5"
  }
 },
 "nbformat": 4,
 "nbformat_minor": 2
}
